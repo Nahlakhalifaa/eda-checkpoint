{
 "cells": [
  {
   "cell_type": "markdown",
   "metadata": {
    "azdata_cell_guid": "151601c9-ca7a-412e-af80-c62a87e0837e"
   },
   "source": [
    "# Checkpoint Two: Exploratory Data Analysis\n",
    "\n",
    "Now that your chosen dataset is approved, it is time to start working on your analysis. Use this notebook to perform your EDA and make notes where directed to as you work.\n",
    "\n",
    "## Getting Started\n",
    "\n",
    "Since we have not provided your dataset for you, you will need to load the necessary files in this repository. Make sure to include a link back to the original dataset here as well.\n",
    "\n",
    "My dataset:\n",
    "\n",
    "Your first task in EDA is to import necessary libraries and create a dataframe(s). Make note in the form of code comments of what your thought process is as you work on this setup task."
   ]
  },
  {
   "cell_type": "code",
   "execution_count": 4,
   "metadata": {
    "azdata_cell_guid": "7b503e37-6df5-4433-acfb-678b1346db14"
   },
   "outputs": [],
   "source": [
    "import sqlite3 as sl\n",
    "import pandas as pd\n",
    "import numpy as np\n",
    "import seaborn as sns\n",
    "import matplotlib.pyplot as plt\n"
   ]
  },
  {
   "cell_type": "code",
   "execution_count": 5,
   "metadata": {},
   "outputs": [],
   "source": [
    "df=pd.read_csv(\"data/moviestreams.csv\")"
   ]
  },
  {
   "cell_type": "code",
   "execution_count": 6,
   "metadata": {},
   "outputs": [
    {
     "data": {
      "text/html": [
       "<div>\n",
       "<style scoped>\n",
       "    .dataframe tbody tr th:only-of-type {\n",
       "        vertical-align: middle;\n",
       "    }\n",
       "\n",
       "    .dataframe tbody tr th {\n",
       "        vertical-align: top;\n",
       "    }\n",
       "\n",
       "    .dataframe thead th {\n",
       "        text-align: right;\n",
       "    }\n",
       "</style>\n",
       "<table border=\"1\" class=\"dataframe\">\n",
       "  <thead>\n",
       "    <tr style=\"text-align: right;\">\n",
       "      <th></th>\n",
       "      <th>Unnamed: 0</th>\n",
       "      <th>ID</th>\n",
       "      <th>Title</th>\n",
       "      <th>Year</th>\n",
       "      <th>Age</th>\n",
       "      <th>IMDb</th>\n",
       "      <th>Rotten Tomatoes</th>\n",
       "      <th>Netflix</th>\n",
       "      <th>Hulu</th>\n",
       "      <th>Prime Video</th>\n",
       "      <th>Disney+</th>\n",
       "      <th>Type</th>\n",
       "      <th>Directors</th>\n",
       "      <th>Genres</th>\n",
       "      <th>Country</th>\n",
       "      <th>Language</th>\n",
       "      <th>Runtime</th>\n",
       "    </tr>\n",
       "  </thead>\n",
       "  <tbody>\n",
       "    <tr>\n",
       "      <th>0</th>\n",
       "      <td>0</td>\n",
       "      <td>1</td>\n",
       "      <td>Inception</td>\n",
       "      <td>2010</td>\n",
       "      <td>13+</td>\n",
       "      <td>8.8</td>\n",
       "      <td>87%</td>\n",
       "      <td>1</td>\n",
       "      <td>0</td>\n",
       "      <td>0</td>\n",
       "      <td>0</td>\n",
       "      <td>0</td>\n",
       "      <td>Christopher Nolan</td>\n",
       "      <td>Action,Adventure,Sci-Fi,Thriller</td>\n",
       "      <td>United States,United Kingdom</td>\n",
       "      <td>English,Japanese,French</td>\n",
       "      <td>148.0</td>\n",
       "    </tr>\n",
       "    <tr>\n",
       "      <th>1</th>\n",
       "      <td>1</td>\n",
       "      <td>2</td>\n",
       "      <td>The Matrix</td>\n",
       "      <td>1999</td>\n",
       "      <td>18+</td>\n",
       "      <td>8.7</td>\n",
       "      <td>87%</td>\n",
       "      <td>1</td>\n",
       "      <td>0</td>\n",
       "      <td>0</td>\n",
       "      <td>0</td>\n",
       "      <td>0</td>\n",
       "      <td>Lana Wachowski,Lilly Wachowski</td>\n",
       "      <td>Action,Sci-Fi</td>\n",
       "      <td>United States</td>\n",
       "      <td>English</td>\n",
       "      <td>136.0</td>\n",
       "    </tr>\n",
       "    <tr>\n",
       "      <th>2</th>\n",
       "      <td>2</td>\n",
       "      <td>3</td>\n",
       "      <td>Avengers: Infinity War</td>\n",
       "      <td>2018</td>\n",
       "      <td>13+</td>\n",
       "      <td>8.5</td>\n",
       "      <td>84%</td>\n",
       "      <td>1</td>\n",
       "      <td>0</td>\n",
       "      <td>0</td>\n",
       "      <td>0</td>\n",
       "      <td>0</td>\n",
       "      <td>Anthony Russo,Joe Russo</td>\n",
       "      <td>Action,Adventure,Sci-Fi</td>\n",
       "      <td>United States</td>\n",
       "      <td>English</td>\n",
       "      <td>149.0</td>\n",
       "    </tr>\n",
       "    <tr>\n",
       "      <th>3</th>\n",
       "      <td>3</td>\n",
       "      <td>4</td>\n",
       "      <td>Back to the Future</td>\n",
       "      <td>1985</td>\n",
       "      <td>7+</td>\n",
       "      <td>8.5</td>\n",
       "      <td>96%</td>\n",
       "      <td>1</td>\n",
       "      <td>0</td>\n",
       "      <td>0</td>\n",
       "      <td>0</td>\n",
       "      <td>0</td>\n",
       "      <td>Robert Zemeckis</td>\n",
       "      <td>Adventure,Comedy,Sci-Fi</td>\n",
       "      <td>United States</td>\n",
       "      <td>English</td>\n",
       "      <td>116.0</td>\n",
       "    </tr>\n",
       "    <tr>\n",
       "      <th>4</th>\n",
       "      <td>4</td>\n",
       "      <td>5</td>\n",
       "      <td>The Good, the Bad and the Ugly</td>\n",
       "      <td>1966</td>\n",
       "      <td>18+</td>\n",
       "      <td>8.8</td>\n",
       "      <td>97%</td>\n",
       "      <td>1</td>\n",
       "      <td>0</td>\n",
       "      <td>1</td>\n",
       "      <td>0</td>\n",
       "      <td>0</td>\n",
       "      <td>Sergio Leone</td>\n",
       "      <td>Western</td>\n",
       "      <td>Italy,Spain,West Germany</td>\n",
       "      <td>Italian</td>\n",
       "      <td>161.0</td>\n",
       "    </tr>\n",
       "    <tr>\n",
       "      <th>...</th>\n",
       "      <td>...</td>\n",
       "      <td>...</td>\n",
       "      <td>...</td>\n",
       "      <td>...</td>\n",
       "      <td>...</td>\n",
       "      <td>...</td>\n",
       "      <td>...</td>\n",
       "      <td>...</td>\n",
       "      <td>...</td>\n",
       "      <td>...</td>\n",
       "      <td>...</td>\n",
       "      <td>...</td>\n",
       "      <td>...</td>\n",
       "      <td>...</td>\n",
       "      <td>...</td>\n",
       "      <td>...</td>\n",
       "      <td>...</td>\n",
       "    </tr>\n",
       "    <tr>\n",
       "      <th>16739</th>\n",
       "      <td>16739</td>\n",
       "      <td>16740</td>\n",
       "      <td>The Ghosts of Buxley Hall</td>\n",
       "      <td>1980</td>\n",
       "      <td>NaN</td>\n",
       "      <td>6.2</td>\n",
       "      <td>NaN</td>\n",
       "      <td>0</td>\n",
       "      <td>0</td>\n",
       "      <td>0</td>\n",
       "      <td>1</td>\n",
       "      <td>0</td>\n",
       "      <td>Bruce Bilson</td>\n",
       "      <td>Comedy,Family,Fantasy,Horror</td>\n",
       "      <td>United States</td>\n",
       "      <td>English</td>\n",
       "      <td>120.0</td>\n",
       "    </tr>\n",
       "    <tr>\n",
       "      <th>16740</th>\n",
       "      <td>16740</td>\n",
       "      <td>16741</td>\n",
       "      <td>The Poof Point</td>\n",
       "      <td>2001</td>\n",
       "      <td>7+</td>\n",
       "      <td>4.7</td>\n",
       "      <td>NaN</td>\n",
       "      <td>0</td>\n",
       "      <td>0</td>\n",
       "      <td>0</td>\n",
       "      <td>1</td>\n",
       "      <td>0</td>\n",
       "      <td>Neal Israel</td>\n",
       "      <td>Comedy,Family,Sci-Fi</td>\n",
       "      <td>United States</td>\n",
       "      <td>English</td>\n",
       "      <td>90.0</td>\n",
       "    </tr>\n",
       "    <tr>\n",
       "      <th>16741</th>\n",
       "      <td>16741</td>\n",
       "      <td>16742</td>\n",
       "      <td>Sharks of Lost Island</td>\n",
       "      <td>2013</td>\n",
       "      <td>NaN</td>\n",
       "      <td>5.7</td>\n",
       "      <td>NaN</td>\n",
       "      <td>0</td>\n",
       "      <td>0</td>\n",
       "      <td>0</td>\n",
       "      <td>1</td>\n",
       "      <td>0</td>\n",
       "      <td>Neil Gelinas</td>\n",
       "      <td>Documentary</td>\n",
       "      <td>United States</td>\n",
       "      <td>English</td>\n",
       "      <td>NaN</td>\n",
       "    </tr>\n",
       "    <tr>\n",
       "      <th>16742</th>\n",
       "      <td>16742</td>\n",
       "      <td>16743</td>\n",
       "      <td>Man Among Cheetahs</td>\n",
       "      <td>2017</td>\n",
       "      <td>NaN</td>\n",
       "      <td>6.6</td>\n",
       "      <td>NaN</td>\n",
       "      <td>0</td>\n",
       "      <td>0</td>\n",
       "      <td>0</td>\n",
       "      <td>1</td>\n",
       "      <td>0</td>\n",
       "      <td>Richard Slater-Jones</td>\n",
       "      <td>Documentary</td>\n",
       "      <td>United States</td>\n",
       "      <td>English</td>\n",
       "      <td>NaN</td>\n",
       "    </tr>\n",
       "    <tr>\n",
       "      <th>16743</th>\n",
       "      <td>16743</td>\n",
       "      <td>16744</td>\n",
       "      <td>In Beaver Valley</td>\n",
       "      <td>1950</td>\n",
       "      <td>NaN</td>\n",
       "      <td>NaN</td>\n",
       "      <td>NaN</td>\n",
       "      <td>0</td>\n",
       "      <td>0</td>\n",
       "      <td>0</td>\n",
       "      <td>1</td>\n",
       "      <td>0</td>\n",
       "      <td>James Algar</td>\n",
       "      <td>Documentary,Short,Family</td>\n",
       "      <td>United States</td>\n",
       "      <td>English</td>\n",
       "      <td>32.0</td>\n",
       "    </tr>\n",
       "  </tbody>\n",
       "</table>\n",
       "<p>16744 rows × 17 columns</p>\n",
       "</div>"
      ],
      "text/plain": [
       "       Unnamed: 0     ID                           Title  Year  Age  IMDb  \\\n",
       "0               0      1                       Inception  2010  13+   8.8   \n",
       "1               1      2                      The Matrix  1999  18+   8.7   \n",
       "2               2      3          Avengers: Infinity War  2018  13+   8.5   \n",
       "3               3      4              Back to the Future  1985   7+   8.5   \n",
       "4               4      5  The Good, the Bad and the Ugly  1966  18+   8.8   \n",
       "...           ...    ...                             ...   ...  ...   ...   \n",
       "16739       16739  16740       The Ghosts of Buxley Hall  1980  NaN   6.2   \n",
       "16740       16740  16741                  The Poof Point  2001   7+   4.7   \n",
       "16741       16741  16742           Sharks of Lost Island  2013  NaN   5.7   \n",
       "16742       16742  16743              Man Among Cheetahs  2017  NaN   6.6   \n",
       "16743       16743  16744                In Beaver Valley  1950  NaN   NaN   \n",
       "\n",
       "      Rotten Tomatoes  Netflix  Hulu  Prime Video  Disney+  Type  \\\n",
       "0                 87%        1     0            0        0     0   \n",
       "1                 87%        1     0            0        0     0   \n",
       "2                 84%        1     0            0        0     0   \n",
       "3                 96%        1     0            0        0     0   \n",
       "4                 97%        1     0            1        0     0   \n",
       "...               ...      ...   ...          ...      ...   ...   \n",
       "16739             NaN        0     0            0        1     0   \n",
       "16740             NaN        0     0            0        1     0   \n",
       "16741             NaN        0     0            0        1     0   \n",
       "16742             NaN        0     0            0        1     0   \n",
       "16743             NaN        0     0            0        1     0   \n",
       "\n",
       "                            Directors                            Genres  \\\n",
       "0                   Christopher Nolan  Action,Adventure,Sci-Fi,Thriller   \n",
       "1      Lana Wachowski,Lilly Wachowski                     Action,Sci-Fi   \n",
       "2             Anthony Russo,Joe Russo           Action,Adventure,Sci-Fi   \n",
       "3                     Robert Zemeckis           Adventure,Comedy,Sci-Fi   \n",
       "4                        Sergio Leone                           Western   \n",
       "...                               ...                               ...   \n",
       "16739                    Bruce Bilson      Comedy,Family,Fantasy,Horror   \n",
       "16740                     Neal Israel              Comedy,Family,Sci-Fi   \n",
       "16741                    Neil Gelinas                       Documentary   \n",
       "16742            Richard Slater-Jones                       Documentary   \n",
       "16743                     James Algar          Documentary,Short,Family   \n",
       "\n",
       "                            Country                 Language  Runtime  \n",
       "0      United States,United Kingdom  English,Japanese,French    148.0  \n",
       "1                     United States                  English    136.0  \n",
       "2                     United States                  English    149.0  \n",
       "3                     United States                  English    116.0  \n",
       "4          Italy,Spain,West Germany                  Italian    161.0  \n",
       "...                             ...                      ...      ...  \n",
       "16739                 United States                  English    120.0  \n",
       "16740                 United States                  English     90.0  \n",
       "16741                 United States                  English      NaN  \n",
       "16742                 United States                  English      NaN  \n",
       "16743                 United States                  English     32.0  \n",
       "\n",
       "[16744 rows x 17 columns]"
      ]
     },
     "execution_count": 6,
     "metadata": {},
     "output_type": "execute_result"
    }
   ],
   "source": [
    "df"
   ]
  },
  {
   "cell_type": "markdown",
   "metadata": {
    "azdata_cell_guid": "129ce836-524b-4ea8-b394-a959f9308d6a"
   },
   "source": [
    "## Get to Know the Numbers\n",
    "\n",
    "Now that you have everything setup, put any code that you use to get to know the dataframe and its rows and columns better in the cell below. You can use whatever techniques you like, except for visualizations. You will put those in a separate section.\n",
    "\n",
    "When working on your code, make sure to leave comments so that your mentors can understand your thought process."
   ]
  },
  {
   "cell_type": "code",
   "execution_count": 7,
   "metadata": {
    "azdata_cell_guid": "0ca2d318-f6e8-43ef-a33e-5304d24d928d",
    "tags": []
   },
   "outputs": [
    {
     "data": {
      "text/plain": [
       "(16744, 17)"
      ]
     },
     "execution_count": 7,
     "metadata": {},
     "output_type": "execute_result"
    }
   ],
   "source": [
    "df.shape # it is a huge data"
   ]
  },
  {
   "cell_type": "code",
   "execution_count": 8,
   "metadata": {},
   "outputs": [
    {
     "data": {
      "text/html": [
       "<div>\n",
       "<style scoped>\n",
       "    .dataframe tbody tr th:only-of-type {\n",
       "        vertical-align: middle;\n",
       "    }\n",
       "\n",
       "    .dataframe tbody tr th {\n",
       "        vertical-align: top;\n",
       "    }\n",
       "\n",
       "    .dataframe thead th {\n",
       "        text-align: right;\n",
       "    }\n",
       "</style>\n",
       "<table border=\"1\" class=\"dataframe\">\n",
       "  <thead>\n",
       "    <tr style=\"text-align: right;\">\n",
       "      <th></th>\n",
       "      <th>Unnamed: 0</th>\n",
       "      <th>ID</th>\n",
       "      <th>Year</th>\n",
       "      <th>IMDb</th>\n",
       "      <th>Netflix</th>\n",
       "      <th>Hulu</th>\n",
       "      <th>Prime Video</th>\n",
       "      <th>Disney+</th>\n",
       "      <th>Type</th>\n",
       "      <th>Runtime</th>\n",
       "    </tr>\n",
       "  </thead>\n",
       "  <tbody>\n",
       "    <tr>\n",
       "      <th>count</th>\n",
       "      <td>16744.000000</td>\n",
       "      <td>16744.000000</td>\n",
       "      <td>16744.000000</td>\n",
       "      <td>16173.000000</td>\n",
       "      <td>16744.000000</td>\n",
       "      <td>16744.000000</td>\n",
       "      <td>16744.000000</td>\n",
       "      <td>16744.000000</td>\n",
       "      <td>16744.0</td>\n",
       "      <td>16152.000000</td>\n",
       "    </tr>\n",
       "    <tr>\n",
       "      <th>mean</th>\n",
       "      <td>8371.500000</td>\n",
       "      <td>8372.500000</td>\n",
       "      <td>2003.014035</td>\n",
       "      <td>5.902751</td>\n",
       "      <td>0.212613</td>\n",
       "      <td>0.053930</td>\n",
       "      <td>0.737817</td>\n",
       "      <td>0.033684</td>\n",
       "      <td>0.0</td>\n",
       "      <td>93.413447</td>\n",
       "    </tr>\n",
       "    <tr>\n",
       "      <th>std</th>\n",
       "      <td>4833.720789</td>\n",
       "      <td>4833.720789</td>\n",
       "      <td>20.674321</td>\n",
       "      <td>1.347867</td>\n",
       "      <td>0.409169</td>\n",
       "      <td>0.225886</td>\n",
       "      <td>0.439835</td>\n",
       "      <td>0.180419</td>\n",
       "      <td>0.0</td>\n",
       "      <td>28.219222</td>\n",
       "    </tr>\n",
       "    <tr>\n",
       "      <th>min</th>\n",
       "      <td>0.000000</td>\n",
       "      <td>1.000000</td>\n",
       "      <td>1902.000000</td>\n",
       "      <td>0.000000</td>\n",
       "      <td>0.000000</td>\n",
       "      <td>0.000000</td>\n",
       "      <td>0.000000</td>\n",
       "      <td>0.000000</td>\n",
       "      <td>0.0</td>\n",
       "      <td>1.000000</td>\n",
       "    </tr>\n",
       "    <tr>\n",
       "      <th>25%</th>\n",
       "      <td>4185.750000</td>\n",
       "      <td>4186.750000</td>\n",
       "      <td>2000.000000</td>\n",
       "      <td>5.100000</td>\n",
       "      <td>0.000000</td>\n",
       "      <td>0.000000</td>\n",
       "      <td>0.000000</td>\n",
       "      <td>0.000000</td>\n",
       "      <td>0.0</td>\n",
       "      <td>82.000000</td>\n",
       "    </tr>\n",
       "    <tr>\n",
       "      <th>50%</th>\n",
       "      <td>8371.500000</td>\n",
       "      <td>8372.500000</td>\n",
       "      <td>2012.000000</td>\n",
       "      <td>6.100000</td>\n",
       "      <td>0.000000</td>\n",
       "      <td>0.000000</td>\n",
       "      <td>1.000000</td>\n",
       "      <td>0.000000</td>\n",
       "      <td>0.0</td>\n",
       "      <td>92.000000</td>\n",
       "    </tr>\n",
       "    <tr>\n",
       "      <th>75%</th>\n",
       "      <td>12557.250000</td>\n",
       "      <td>12558.250000</td>\n",
       "      <td>2016.000000</td>\n",
       "      <td>6.900000</td>\n",
       "      <td>0.000000</td>\n",
       "      <td>0.000000</td>\n",
       "      <td>1.000000</td>\n",
       "      <td>0.000000</td>\n",
       "      <td>0.0</td>\n",
       "      <td>104.000000</td>\n",
       "    </tr>\n",
       "    <tr>\n",
       "      <th>max</th>\n",
       "      <td>16743.000000</td>\n",
       "      <td>16744.000000</td>\n",
       "      <td>2020.000000</td>\n",
       "      <td>9.300000</td>\n",
       "      <td>1.000000</td>\n",
       "      <td>1.000000</td>\n",
       "      <td>1.000000</td>\n",
       "      <td>1.000000</td>\n",
       "      <td>0.0</td>\n",
       "      <td>1256.000000</td>\n",
       "    </tr>\n",
       "  </tbody>\n",
       "</table>\n",
       "</div>"
      ],
      "text/plain": [
       "         Unnamed: 0            ID          Year          IMDb       Netflix  \\\n",
       "count  16744.000000  16744.000000  16744.000000  16173.000000  16744.000000   \n",
       "mean    8371.500000   8372.500000   2003.014035      5.902751      0.212613   \n",
       "std     4833.720789   4833.720789     20.674321      1.347867      0.409169   \n",
       "min        0.000000      1.000000   1902.000000      0.000000      0.000000   \n",
       "25%     4185.750000   4186.750000   2000.000000      5.100000      0.000000   \n",
       "50%     8371.500000   8372.500000   2012.000000      6.100000      0.000000   \n",
       "75%    12557.250000  12558.250000   2016.000000      6.900000      0.000000   \n",
       "max    16743.000000  16744.000000   2020.000000      9.300000      1.000000   \n",
       "\n",
       "               Hulu   Prime Video       Disney+     Type       Runtime  \n",
       "count  16744.000000  16744.000000  16744.000000  16744.0  16152.000000  \n",
       "mean       0.053930      0.737817      0.033684      0.0     93.413447  \n",
       "std        0.225886      0.439835      0.180419      0.0     28.219222  \n",
       "min        0.000000      0.000000      0.000000      0.0      1.000000  \n",
       "25%        0.000000      0.000000      0.000000      0.0     82.000000  \n",
       "50%        0.000000      1.000000      0.000000      0.0     92.000000  \n",
       "75%        0.000000      1.000000      0.000000      0.0    104.000000  \n",
       "max        1.000000      1.000000      1.000000      0.0   1256.000000  "
      ]
     },
     "execution_count": 8,
     "metadata": {},
     "output_type": "execute_result"
    }
   ],
   "source": [
    "df.describe()\n",
    "#describe() function will only display numarical data\n",
    "#here we can see counts, max value etc and we can see the missing values also in count section "
   ]
  },
  {
   "cell_type": "code",
   "execution_count": 9,
   "metadata": {},
   "outputs": [
    {
     "name": "stdout",
     "output_type": "stream",
     "text": [
      "<class 'pandas.core.frame.DataFrame'>\n",
      "RangeIndex: 16744 entries, 0 to 16743\n",
      "Data columns (total 17 columns):\n",
      " #   Column           Non-Null Count  Dtype  \n",
      "---  ------           --------------  -----  \n",
      " 0   Unnamed: 0       16744 non-null  int64  \n",
      " 1   ID               16744 non-null  int64  \n",
      " 2   Title            16744 non-null  object \n",
      " 3   Year             16744 non-null  int64  \n",
      " 4   Age              7354 non-null   object \n",
      " 5   IMDb             16173 non-null  float64\n",
      " 6   Rotten Tomatoes  5158 non-null   object \n",
      " 7   Netflix          16744 non-null  int64  \n",
      " 8   Hulu             16744 non-null  int64  \n",
      " 9   Prime Video      16744 non-null  int64  \n",
      " 10  Disney+          16744 non-null  int64  \n",
      " 11  Type             16744 non-null  int64  \n",
      " 12  Directors        16018 non-null  object \n",
      " 13  Genres           16469 non-null  object \n",
      " 14  Country          16309 non-null  object \n",
      " 15  Language         16145 non-null  object \n",
      " 16  Runtime          16152 non-null  float64\n",
      "dtypes: float64(2), int64(8), object(7)\n",
      "memory usage: 2.2+ MB\n"
     ]
    }
   ],
   "source": [
    "df.info()\n",
    "#data.info provides counts of all columns and also display type of data"
   ]
  },
  {
   "cell_type": "code",
   "execution_count": 10,
   "metadata": {},
   "outputs": [
    {
     "data": {
      "text/plain": [
       "English            10955\n",
       "Hindi                503\n",
       "English,Spanish      276\n",
       "Spanish              267\n",
       "English,French       174\n",
       "Italian              166\n",
       "French               163\n",
       "Japanese             155\n",
       "Mandarin             151\n",
       "Tamil                 93\n",
       "Name: Language, dtype: int64"
      ]
     },
     "execution_count": 10,
     "metadata": {},
     "output_type": "execute_result"
    }
   ],
   "source": [
    "df[\"Language\"].value_counts().head(10)"
   ]
  },
  {
   "cell_type": "markdown",
   "metadata": {
    "azdata_cell_guid": "d45060f3-97bc-484a-9ef4-66145bbe9427"
   },
   "source": [
    "## Visualize\n",
    "\n",
    "Create any visualizations for your EDA here. Make note in the form of code comments of what your thought process is for your visualizations."
   ]
  },
  {
   "cell_type": "code",
   "execution_count": 11,
   "metadata": {
    "azdata_cell_guid": "f4565b03-759a-47a8-b58f-01b32a0b4b67"
   },
   "outputs": [
    {
     "data": {
      "text/plain": [
       "<AxesSubplot:>"
      ]
     },
     "execution_count": 11,
     "metadata": {},
     "output_type": "execute_result"
    },
    {
     "data": {
      "image/png": "[encoded data removed]",
      "text/plain": [
       "<Figure size 432x288 with 2 Axes>"
      ]
     },
     "metadata": {
      "needs_background": "light"
     },
     "output_type": "display_data"
    }
   ],
   "source": [
    "sns.heatmap(df.isnull()) # we see the missing values using heatmap \n"
   ]
  },
  {
   "cell_type": "code",
   "execution_count": 12,
   "metadata": {},
   "outputs": [],
   "source": [
    "Language=df[\"Language\"].value_counts().head(10) #Top 10 language in streaming services"
   ]
  },
  {
   "cell_type": "code",
   "execution_count": 13,
   "metadata": {
    "azdata_cell_guid": "cd64bab1-db4c-4295-820d-c6464b653a3e"
   },
   "outputs": [
    {
     "data": {
      "image/png": "[encoded data removed]",
      "text/plain": [
       "<Figure size 720x576 with 1 Axes>"
      ]
     },
     "metadata": {
      "needs_background": "light"
     },
     "output_type": "display_data"
    }
   ],
   "source": [
    "plt.figure(figsize=(10,8))\n",
    "plt.title(\"Top 10 language in streaming services\")\n",
    "sns.barplot(x= Language.index,y=Language.values )\n",
    "plt.show()\n",
    "#From the above plot, you can conclude that the majority of movies were in the English language."
   ]
  },
  {
   "cell_type": "code",
   "execution_count": 14,
   "metadata": {},
   "outputs": [
    {
     "data": {
      "image/png": "[encoded data removed]",
      "text/plain": [
       "<Figure size 1440x360 with 1 Axes>"
      ]
     },
     "metadata": {
      "needs_background": "light"
     },
     "output_type": "display_data"
    }
   ],
   "source": [
    "# distribution of movies origin year\n",
    "plt.figure(figsize=(20,5))\n",
    "plt.title(\"the distribution of movies\")\n",
    "sns.histplot(df['Year'])\n",
    "plt.show() ##The chart is showing the distribution of movies origin year.\n",
    "#You can interpret that most of the movies were made between the year 2000 to 2020."
   ]
  },
  {
   "cell_type": "code",
   "execution_count": 27,
   "metadata": {},
   "outputs": [
    {
     "data": {
      "text/plain": [
       "<AxesSubplot:>"
      ]
     },
     "execution_count": 27,
     "metadata": {},
     "output_type": "execute_result"
    },
    {
     "data": {
      "image/png": "[encoded data removed]",
      "text/plain": [
       "<Figure size 432x288 with 1 Axes>"
      ]
     },
     "metadata": {
      "needs_background": "light"
     },
     "output_type": "display_data"
    }
   ],
   "source": [
    "df[\"Year\"].hist(bins=100)"
   ]
  },
  {
   "cell_type": "code",
   "execution_count": 15,
   "metadata": {},
   "outputs": [],
   "source": [
    "#let’s plat the IMDb rantings distribution to  see the quantity of the tv shows available on each platform:\n",
    "# melting platform columns to create visualization\n",
    "df2 = pd.melt(df, id_vars=[\"ID\",\"Title\",\"Year\",\"IMDb\",\"Type\",\"Runtime\"], var_name=\"platform\")\n",
    "df2 = df2[df2.value==1]\n",
    "df2.drop(columns=[\"value\"],axis=1,inplace=True)"
   ]
  },
  {
   "cell_type": "code",
   "execution_count": 16,
   "metadata": {},
   "outputs": [
    {
     "data": {
      "text/html": [
       "<div>\n",
       "<style scoped>\n",
       "    .dataframe tbody tr th:only-of-type {\n",
       "        vertical-align: middle;\n",
       "    }\n",
       "\n",
       "    .dataframe tbody tr th {\n",
       "        vertical-align: top;\n",
       "    }\n",
       "\n",
       "    .dataframe thead th {\n",
       "        text-align: right;\n",
       "    }\n",
       "</style>\n",
       "<table border=\"1\" class=\"dataframe\">\n",
       "  <thead>\n",
       "    <tr style=\"text-align: right;\">\n",
       "      <th></th>\n",
       "      <th>ID</th>\n",
       "      <th>Title</th>\n",
       "      <th>Year</th>\n",
       "      <th>IMDb</th>\n",
       "      <th>Type</th>\n",
       "      <th>Runtime</th>\n",
       "      <th>platform</th>\n",
       "    </tr>\n",
       "  </thead>\n",
       "  <tbody>\n",
       "    <tr>\n",
       "      <th>1</th>\n",
       "      <td>2</td>\n",
       "      <td>The Matrix</td>\n",
       "      <td>1999</td>\n",
       "      <td>8.7</td>\n",
       "      <td>0</td>\n",
       "      <td>136.0</td>\n",
       "      <td>Unnamed: 0</td>\n",
       "    </tr>\n",
       "    <tr>\n",
       "      <th>50232</th>\n",
       "      <td>1</td>\n",
       "      <td>Inception</td>\n",
       "      <td>2010</td>\n",
       "      <td>8.8</td>\n",
       "      <td>0</td>\n",
       "      <td>148.0</td>\n",
       "      <td>Netflix</td>\n",
       "    </tr>\n",
       "    <tr>\n",
       "      <th>50233</th>\n",
       "      <td>2</td>\n",
       "      <td>The Matrix</td>\n",
       "      <td>1999</td>\n",
       "      <td>8.7</td>\n",
       "      <td>0</td>\n",
       "      <td>136.0</td>\n",
       "      <td>Netflix</td>\n",
       "    </tr>\n",
       "    <tr>\n",
       "      <th>50234</th>\n",
       "      <td>3</td>\n",
       "      <td>Avengers: Infinity War</td>\n",
       "      <td>2018</td>\n",
       "      <td>8.5</td>\n",
       "      <td>0</td>\n",
       "      <td>149.0</td>\n",
       "      <td>Netflix</td>\n",
       "    </tr>\n",
       "    <tr>\n",
       "      <th>50235</th>\n",
       "      <td>4</td>\n",
       "      <td>Back to the Future</td>\n",
       "      <td>1985</td>\n",
       "      <td>8.5</td>\n",
       "      <td>0</td>\n",
       "      <td>116.0</td>\n",
       "      <td>Netflix</td>\n",
       "    </tr>\n",
       "    <tr>\n",
       "      <th>...</th>\n",
       "      <td>...</td>\n",
       "      <td>...</td>\n",
       "      <td>...</td>\n",
       "      <td>...</td>\n",
       "      <td>...</td>\n",
       "      <td>...</td>\n",
       "      <td>...</td>\n",
       "    </tr>\n",
       "    <tr>\n",
       "      <th>117203</th>\n",
       "      <td>16740</td>\n",
       "      <td>The Ghosts of Buxley Hall</td>\n",
       "      <td>1980</td>\n",
       "      <td>6.2</td>\n",
       "      <td>0</td>\n",
       "      <td>120.0</td>\n",
       "      <td>Disney+</td>\n",
       "    </tr>\n",
       "    <tr>\n",
       "      <th>117204</th>\n",
       "      <td>16741</td>\n",
       "      <td>The Poof Point</td>\n",
       "      <td>2001</td>\n",
       "      <td>4.7</td>\n",
       "      <td>0</td>\n",
       "      <td>90.0</td>\n",
       "      <td>Disney+</td>\n",
       "    </tr>\n",
       "    <tr>\n",
       "      <th>117205</th>\n",
       "      <td>16742</td>\n",
       "      <td>Sharks of Lost Island</td>\n",
       "      <td>2013</td>\n",
       "      <td>5.7</td>\n",
       "      <td>0</td>\n",
       "      <td>NaN</td>\n",
       "      <td>Disney+</td>\n",
       "    </tr>\n",
       "    <tr>\n",
       "      <th>117206</th>\n",
       "      <td>16743</td>\n",
       "      <td>Man Among Cheetahs</td>\n",
       "      <td>2017</td>\n",
       "      <td>6.6</td>\n",
       "      <td>0</td>\n",
       "      <td>NaN</td>\n",
       "      <td>Disney+</td>\n",
       "    </tr>\n",
       "    <tr>\n",
       "      <th>117207</th>\n",
       "      <td>16744</td>\n",
       "      <td>In Beaver Valley</td>\n",
       "      <td>1950</td>\n",
       "      <td>NaN</td>\n",
       "      <td>0</td>\n",
       "      <td>32.0</td>\n",
       "      <td>Disney+</td>\n",
       "    </tr>\n",
       "  </tbody>\n",
       "</table>\n",
       "<p>17382 rows × 7 columns</p>\n",
       "</div>"
      ],
      "text/plain": [
       "           ID                      Title  Year  IMDb  Type  Runtime  \\\n",
       "1           2                 The Matrix  1999   8.7     0    136.0   \n",
       "50232       1                  Inception  2010   8.8     0    148.0   \n",
       "50233       2                 The Matrix  1999   8.7     0    136.0   \n",
       "50234       3     Avengers: Infinity War  2018   8.5     0    149.0   \n",
       "50235       4         Back to the Future  1985   8.5     0    116.0   \n",
       "...       ...                        ...   ...   ...   ...      ...   \n",
       "117203  16740  The Ghosts of Buxley Hall  1980   6.2     0    120.0   \n",
       "117204  16741             The Poof Point  2001   4.7     0     90.0   \n",
       "117205  16742      Sharks of Lost Island  2013   5.7     0      NaN   \n",
       "117206  16743         Man Among Cheetahs  2017   6.6     0      NaN   \n",
       "117207  16744           In Beaver Valley  1950   NaN     0     32.0   \n",
       "\n",
       "          platform  \n",
       "1       Unnamed: 0  \n",
       "50232      Netflix  \n",
       "50233      Netflix  \n",
       "50234      Netflix  \n",
       "50235      Netflix  \n",
       "...            ...  \n",
       "117203     Disney+  \n",
       "117204     Disney+  \n",
       "117205     Disney+  \n",
       "117206     Disney+  \n",
       "117207     Disney+  \n",
       "\n",
       "[17382 rows x 7 columns]"
      ]
     },
     "execution_count": 16,
     "metadata": {},
     "output_type": "execute_result"
    }
   ],
   "source": [
    "df2"
   ]
  },
  {
   "cell_type": "code",
   "execution_count": 17,
   "metadata": {},
   "outputs": [
    {
     "data": {
      "image/png": "[encoded data removed]",
      "text/plain": [
       "<Figure size 1080x216 with 5 Axes>"
      ]
     },
     "metadata": {
      "needs_background": "light"
     },
     "output_type": "display_data"
    }
   ],
   "source": [
    "# Distribution of IMDB rating in different platform\n",
    "g = sns.FacetGrid(df2, col = \"platform\")\n",
    "g.map(plt.hist, \"IMDb\")\n",
    "plt.show() #The plot shows the average IMDB rating distribution on each platform."
   ]
  },
  {
   "cell_type": "code",
   "execution_count": 18,
   "metadata": {},
   "outputs": [
    {
     "data": {
      "image/png": "[encoded data removed]",
      "text/plain": [
       "<Figure size 1080x216 with 5 Axes>"
      ]
     },
     "metadata": {
      "needs_background": "light"
     },
     "output_type": "display_data"
    }
   ],
   "source": [
    "g = sns.FacetGrid(df2, col = \"platform\")\n",
    "g.map(plt.hist, \"Year\")\n",
    "plt.show() # In the same process, we see an increase in films over the years."
   ]
  },
  {
   "cell_type": "code",
   "execution_count": 19,
   "metadata": {},
   "outputs": [],
   "source": [
    "def df_cnt(plat, count=False):\n",
    "    if count==False:\n",
    "        print('Platform {} Count: {}'. format(plat, df[plat].sum()))\n",
    "    else:\n",
    "        return df[plat].sum()"
   ]
  },
  {
   "cell_type": "code",
   "execution_count": 20,
   "metadata": {},
   "outputs": [
    {
     "name": "stdout",
     "output_type": "stream",
     "text": [
      "Platform Netflix Count: 3560\n",
      "Platform Hulu Count: 903\n",
      "Platform Prime Video Count: 12354\n",
      "Platform Disney+ Count: 564\n"
     ]
    }
   ],
   "source": [
    "df_cnt('Netflix')\n",
    "df_cnt('Hulu')\n",
    "df_cnt('Prime Video')\n",
    "df_cnt('Disney+')"
   ]
  },
  {
   "cell_type": "code",
   "execution_count": 21,
   "metadata": {},
   "outputs": [],
   "source": [
    "# Movies on each platform\n",
    "platform = 'Prime Video','Netflix', 'Hulu', 'Disney'\n",
    "s = [df_cnt('Prime Video', count=True),\n",
    "     df_cnt('Netflix', count=True),\n",
    "     df_cnt('Hulu', count=True),\n",
    "     df_cnt('Disney+', count=True)]"
   ]
  },
  {
   "cell_type": "code",
   "execution_count": 22,
   "metadata": {},
   "outputs": [
    {
     "data": {
      "image/png": "[encoded data removed]",
      "text/plain": [
       "<Figure size 432x288 with 1 Axes>"
      ]
     },
     "metadata": {},
     "output_type": "display_data"
    }
   ],
   "source": [
    "explode = (0.1, 0.1, 0.1, 0.1)\n",
    "\n",
    "#plotting\n",
    "fig1, ax1 = plt.subplots()\n",
    "ax1.pie(s,\n",
    "       labels = platform,\n",
    "       autopct = '%1.1f%%',\n",
    "       explode = explode,\n",
    "       shadow = True,\n",
    "       startangle = 100)\n",
    "\n",
    "ax1.axis = ('equal')\n",
    "plt.show()#From the this plot, we can say that Prime Videos is hosting the maximum number of titles with 71% share and Netflix hosting 20.5% of titles.\n",
    "           #Disney+ and Hulu are hosting the lowest."
   ]
  },
  {
   "cell_type": "code",
   "execution_count": 24,
   "metadata": {},
   "outputs": [
    {
     "data": {
      "text/plain": [
       "Text(0.5, 0, 'Counts')"
      ]
     },
     "execution_count": 24,
     "metadata": {},
     "output_type": "execute_result"
    },
    {
     "data": {
      "image/png": "[encoded data removed]",
      "text/plain": [
       "<Figure size 1440x720 with 1 Axes>"
      ]
     },
     "metadata": {
      "needs_background": "light"
     },
     "output_type": "display_data"
    }
   ],
   "source": [
    "# Most movies made by Director\n",
    "plt.figure(figsize=(20,10))\n",
    "chains=df['Directors'].value_counts()[:20]\n",
    "sns.barplot(x=chains,y=chains.index,palette='Set1')\n",
    "plt.title(\"Most movies made by Director \",size=20,pad=20)\n",
    "plt.xlabel(\"Counts\",size=15)"
   ]
  },
  {
   "cell_type": "code",
   "execution_count": 31,
   "metadata": {},
   "outputs": [],
   "source": [
    "#split the genres by ',' & then stack it one after the other for easy analysis.\n",
    "g = df['Genres'].str.split(',').apply(pd.Series, 1).stack() \n",
    "g.index = g.index.droplevel(-1)\n",
    "g.name = 'Genres'# Assign name to column\n",
    "\n",
    "del df['Genres'] # delete column\n",
    "df_genres = df.join(g) # join new column with the existing dataframe\n",
    "# it looks like people like more Drama movies compared to action movies"
   ]
  },
  {
   "cell_type": "code",
   "execution_count": 32,
   "metadata": {},
   "outputs": [
    {
     "data": {
      "image/png": "[encoded data removed]",
      "text/plain": [
       "<Figure size 1080x360 with 1 Axes>"
      ]
     },
     "metadata": {
      "needs_background": "light"
     },
     "output_type": "display_data"
    }
   ],
   "source": [
    "plt.figure(figsize=(15,5))\n",
    "sns.countplot(x='Genres', data=df_genres)\n",
    "plt.xticks(rotation=90)\n",
    "plt.show()"
   ]
  },
  {
   "cell_type": "code",
   "execution_count": 33,
   "metadata": {},
   "outputs": [],
   "source": [
    "#Movie Distribution According To Country\n",
    "\n",
    "c = df['Country'].str.split(',').apply(pd.Series, 1).stack()\n",
    "c.index = c.index.droplevel(-1)\n",
    "# Assign name to column\n",
    "c.name = 'Country'\n",
    "# delete column\n",
    "del df['Country']\n",
    "# join new column with the existing dataframe\n",
    "df_country = df.join(c)"
   ]
  },
  {
   "cell_type": "code",
   "execution_count": 34,
   "metadata": {},
   "outputs": [
    {
     "data": {
      "image/png": "[encoded data removed]",
      "text/plain": [
       "<Figure size 1080x360 with 1 Axes>"
      ]
     },
     "metadata": {
      "needs_background": "light"
     },
     "output_type": "display_data"
    }
   ],
   "source": [
    "df_country['Country'].value_counts()[:10].plot(kind='bar',figsize=(15,5))\n",
    "plt.show()"
   ]
  },
  {
   "cell_type": "code",
   "execution_count": null,
   "metadata": {},
   "outputs": [],
   "source": [
    "#the majority of the movies were made in the United States."
   ]
  },
  {
   "cell_type": "code",
   "execution_count": null,
   "metadata": {},
   "outputs": [],
   "source": []
  },
  {
   "cell_type": "markdown",
   "metadata": {
    "azdata_cell_guid": "d4931c0c-2c09-4ee1-95d4-73dd08c2f0a6"
   },
   "source": [
    "## Summarize Your Results\n",
    "\n",
    "With your EDA complete, answer the following questions.\n",
    "\n",
    "1. Was there anything surprising about your dataset? \n",
    "2. Do you have any concerns about your dataset? \n",
    "3. Is there anything you want to make note of for the next phase of your analysis, which is cleaning data? "
   ]
  },
  {
   "cell_type": "code",
   "execution_count": null,
   "metadata": {},
   "outputs": [],
   "source": [
    "#1--Hulu, Netflix, and Amazon Videos all have important data. As content increases, quality decreases for all three.\n",
    " #Prime Videos has become denser in the top half when looking at IMDB and performs well in cool.\n",
    "#Disney+ being new, has also been very successful in this area.\n",
    "\n",
    "#what surprised me realy when we looking at all the streaming platforms we can conclude that Amazon Prime is better in both\n",
    "#quality and quantity. and also the most of the movies have a common genre as Drama and Comedy.\n",
    "#2- my concern:\n",
    "2# I should convert Rotten Tomatoes to numirc to see rate of the plateforms comparing to IMDB or me be i will drop it becuse it containe a lot of NULL values..\n"
   ]
  }
 ],
 "metadata": {
  "kernelspec": {
   "display_name": "Python 3",
   "language": "python",
   "name": "python3"
  },
  "language_info": {
   "codemirror_mode": {
    "name": "ipython",
    "version": 3
   },
   "file_extension": ".py",
   "mimetype": "text/x-python",
   "name": "python",
   "nbconvert_exporter": "python",
   "pygments_lexer": "ipython3",
   "version": "3.8.8"
  }
 },
 "nbformat": 4,
 "nbformat_minor": 2
}
